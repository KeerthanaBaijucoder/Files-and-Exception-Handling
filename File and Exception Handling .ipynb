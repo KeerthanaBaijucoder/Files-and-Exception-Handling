{
 "cells": [
  {
   "cell_type": "markdown",
   "id": "3ca0db6f-1a9e-4bbb-a05b-76fecfc55236",
   "metadata": {},
   "source": [
    "Exercise 1"
   ]
  },
  {
   "cell_type": "code",
   "execution_count": 19,
   "id": "d156df46-1860-421f-a397-18a6763904f4",
   "metadata": {},
   "outputs": [
    {
     "name": "stdout",
     "output_type": "stream",
     "text": [
      "\n",
      "File contents:\n",
      "\n",
      "Hi, my name is Anandakrishnan \n",
      "\n"
     ]
    }
   ],
   "source": [
    "try:\n",
    "    with open(\"newfile.txt\",'r') as f:\n",
    "        contents=f.read()\n",
    "        print(\"\\nFile contents:\\n\")\n",
    "        print(contents)\n",
    "except FileNotFoundError :\n",
    "    print(\"File not found.\")"
   ]
  },
  {
   "cell_type": "markdown",
   "id": "6a4b0c63-0046-4c1e-b0ff-d7d888bdaa2a",
   "metadata": {},
   "source": [
    "Exercise 2"
   ]
  },
  {
   "cell_type": "code",
   "execution_count": 23,
   "id": "df2ad15f-703e-4322-9e34-013e320155e8",
   "metadata": {},
   "outputs": [
    {
     "name": "stdout",
     "output_type": "stream",
     "text": [
      "Hi, my name is Anandakrishnan \n",
      "\n"
     ]
    }
   ],
   "source": [
    "with open(\"newfile.txt\",'r') as n:\n",
    "    content=n.read()\n",
    "with open(\"transfer.txt\",'w') as t:\n",
    "    t.write(content)\n",
    "with open(\"transfer.txt\",'r') as s:\n",
    "    c=s.read()\n",
    "    print(c)"
   ]
  },
  {
   "cell_type": "markdown",
   "id": "35b13e7c-25b0-4d46-b7a9-92f1561e719a",
   "metadata": {},
   "source": [
    "Exercise 3"
   ]
  },
  {
   "cell_type": "code",
   "execution_count": 27,
   "id": "e1f7173d-ab9f-4098-88bf-9741888fa662",
   "metadata": {},
   "outputs": [
    {
     "name": "stdout",
     "output_type": "stream",
     "text": [
      "Total number of words: 5\n"
     ]
    }
   ],
   "source": [
    "with open(\"newfile.txt\",'r') as file:\n",
    "    content=file.read()\n",
    "    words=content.split()\n",
    "    word_count=len(words)\n",
    "print(\"Total number of words:\",word_count)    "
   ]
  },
  {
   "cell_type": "markdown",
   "id": "48de70e2-b967-4352-8c2c-645e11f00c7c",
   "metadata": {},
   "source": [
    "Exercise 4"
   ]
  },
  {
   "cell_type": "code",
   "execution_count": 31,
   "id": "1e5ad696-55d7-47ce-8aef-e3dac44d675f",
   "metadata": {},
   "outputs": [
    {
     "name": "stdin",
     "output_type": "stream",
     "text": [
      "Enter a number: 123\n"
     ]
    },
    {
     "name": "stdout",
     "output_type": "stream",
     "text": [
      "Number is: 123\n"
     ]
    }
   ],
   "source": [
    "a=input(\"Enter a number:\")\n",
    "try:\n",
    "    num=int(a)\n",
    "    print(\"Number is:\",num)\n",
    "except ValueError:\n",
    "    print(\"Invalid input!!!\")"
   ]
  },
  {
   "cell_type": "markdown",
   "id": "373bbfbd-9a5e-4cb6-b9ea-9389f4284f5e",
   "metadata": {},
   "source": [
    "Exercise 5"
   ]
  },
  {
   "cell_type": "code",
   "execution_count": 57,
   "id": "0a65e8bb-6273-4df0-84ca-8f65a3eb78de",
   "metadata": {},
   "outputs": [
    {
     "name": "stdin",
     "output_type": "stream",
     "text": [
      "Enter a limit for the list: 3\n"
     ]
    },
    {
     "name": "stdout",
     "output_type": "stream",
     "text": [
      "Enter the numbers:\n",
      "\n"
     ]
    },
    {
     "name": "stdin",
     "output_type": "stream",
     "text": [
      " 1\n",
      " -2\n",
      " 3\n"
     ]
    },
    {
     "name": "stdout",
     "output_type": "stream",
     "text": [
      "Error: Negative number detected!!!\n"
     ]
    }
   ],
   "source": [
    "l1=[]\n",
    "try:\n",
    "    lim=int(input(\"Enter a limit for the list:\"))\n",
    "    print(\"Enter the numbers:\\n\")\n",
    "    for i in range(0,lim):\n",
    "        b=int(input())\n",
    "        l1.append(b)\n",
    "    for j in l1:\n",
    "        if j<0:\n",
    "            raise ValueError(\"Negative number detected!!!\")\n",
    "    print(\"All numbers are positive.\")\n",
    "except ValueError as e:\n",
    "    print(\"Error:\",e)"
   ]
  },
  {
   "cell_type": "markdown",
   "id": "bbc19f6b-3759-41f7-b558-c141ea83b807",
   "metadata": {},
   "source": [
    "Exercise 6"
   ]
  },
  {
   "cell_type": "code",
   "execution_count": 47,
   "id": "c78a7183-9f53-46cb-9e3d-ac3003438f62",
   "metadata": {},
   "outputs": [
    {
     "name": "stdin",
     "output_type": "stream",
     "text": [
      "enter the limit of the list: 5\n"
     ]
    },
    {
     "name": "stdout",
     "output_type": "stream",
     "text": [
      "enter the numbers:\n",
      "\n"
     ]
    },
    {
     "name": "stdin",
     "output_type": "stream",
     "text": [
      " 13\n",
      " 57\n",
      " 89\n",
      " 37\n",
      " 19\n"
     ]
    },
    {
     "name": "stdout",
     "output_type": "stream",
     "text": [
      "Average: 43.0\n",
      "Program has finished running.\n"
     ]
    }
   ],
   "source": [
    "l2=[]\n",
    "try:\n",
    "    limit=int(input(\"enter the limit of the list:\"))\n",
    "    print(\"enter the numbers:\\n\")\n",
    "    for i in range(0,limit):\n",
    "        b=int(input())\n",
    "        l2.append(b)\n",
    "    avg=sum(l2)/limit\n",
    "    print(\"Average:\",avg)\n",
    "except Exception as e:\n",
    "    print(\"Something went wrong!!!\")\n",
    "finally:\n",
    "    print(\"Program has finished running.\")\n",
    "        "
   ]
  },
  {
   "cell_type": "markdown",
   "id": "eb7364e1-0f9b-4b41-a524-4c60876b8eb0",
   "metadata": {},
   "source": [
    "Exercise 7"
   ]
  },
  {
   "cell_type": "code",
   "execution_count": 59,
   "id": "21d12072-f9b6-4590-bfe6-4cae211f1448",
   "metadata": {},
   "outputs": [
    {
     "name": "stdin",
     "output_type": "stream",
     "text": [
      "Enter the file name to write: transfer.txt\n",
      "Enter the string to write into the file: Hello Anandakrishnan\n"
     ]
    },
    {
     "name": "stdout",
     "output_type": "stream",
     "text": [
      "Welcome\n"
     ]
    }
   ],
   "source": [
    "try:\n",
    "    filename=input(\"Enter the file name to write:\")\n",
    "    content=input(\"Enter the string to write into the file:\")\n",
    "    with open(filename,'w') as fi:\n",
    "        fi.write(content)\n",
    "    print(\"Welcome\")\n",
    "except Exception as e:\n",
    "    print(\"Error:\",e)"
   ]
  },
  {
   "cell_type": "code",
   "execution_count": null,
   "id": "f4815535-3ec9-4c28-a941-c63e2b309138",
   "metadata": {},
   "outputs": [],
   "source": []
  }
 ],
 "metadata": {
  "kernelspec": {
   "display_name": "Python [conda env:base] *",
   "language": "python",
   "name": "conda-base-py"
  },
  "language_info": {
   "codemirror_mode": {
    "name": "ipython",
    "version": 3
   },
   "file_extension": ".py",
   "mimetype": "text/x-python",
   "name": "python",
   "nbconvert_exporter": "python",
   "pygments_lexer": "ipython3",
   "version": "3.12.7"
  }
 },
 "nbformat": 4,
 "nbformat_minor": 5
}
